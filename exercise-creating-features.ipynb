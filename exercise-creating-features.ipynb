{
 "cells": [
  {
   "cell_type": "markdown",
   "id": "7e6c60d0",
   "metadata": {
    "papermill": {
     "duration": 0.005927,
     "end_time": "2024-01-05T11:50:03.180287",
     "exception": false,
     "start_time": "2024-01-05T11:50:03.174360",
     "status": "completed"
    },
    "tags": []
   },
   "source": [
    "**This notebook is an exercise in the [Feature Engineering](https://www.kaggle.com/learn/feature-engineering) course.  You can reference the tutorial at [this link](https://www.kaggle.com/ryanholbrook/creating-features).**\n",
    "\n",
    "---\n"
   ]
  },
  {
   "cell_type": "markdown",
   "id": "b901bb60",
   "metadata": {
    "papermill": {
     "duration": 0.005046,
     "end_time": "2024-01-05T11:50:03.190891",
     "exception": false,
     "start_time": "2024-01-05T11:50:03.185845",
     "status": "completed"
    },
    "tags": []
   },
   "source": [
    "# Introduction #\n",
    "\n",
    "In this exercise you'll start developing the features you identified in Exercise 2 as having the most potential. As you work through this exercise, you might take a moment to look at the data documentation again and consider whether the features we're creating make sense from a real-world perspective, and whether there are any useful combinations that stand out to you.\n",
    "\n",
    "Run this cell to set everything up!"
   ]
  },
  {
   "cell_type": "code",
   "execution_count": 1,
   "id": "0c339b65",
   "metadata": {
    "execution": {
     "iopub.execute_input": "2024-01-05T11:50:03.204148Z",
     "iopub.status.busy": "2024-01-05T11:50:03.203410Z",
     "iopub.status.idle": "2024-01-05T11:50:05.090534Z",
     "shell.execute_reply": "2024-01-05T11:50:05.089252Z"
    },
    "papermill": {
     "duration": 1.897728,
     "end_time": "2024-01-05T11:50:05.093969",
     "exception": false,
     "start_time": "2024-01-05T11:50:03.196241",
     "status": "completed"
    },
    "tags": []
   },
   "outputs": [],
   "source": [
    "# Setup feedback system\n",
    "from learntools.core import binder\n",
    "binder.bind(globals())\n",
    "from learntools.feature_engineering_new.ex3 import *\n",
    "\n",
    "import numpy as np\n",
    "import pandas as pd\n",
    "from sklearn.model_selection import cross_val_score\n",
    "from xgboost import XGBRegressor\n",
    "\n",
    "\n",
    "def score_dataset(X, y, model=XGBRegressor()):\n",
    "    # Label encoding for categoricals\n",
    "    for colname in X.select_dtypes([\"category\", \"object\"]):\n",
    "        X[colname], _ = X[colname].factorize()\n",
    "    # Metric for Housing competition is RMSLE (Root Mean Squared Log Error)\n",
    "    score = cross_val_score(\n",
    "        model, X, y, cv=5, scoring=\"neg_mean_squared_log_error\",\n",
    "    )\n",
    "    score = -1 * score.mean()\n",
    "    score = np.sqrt(score)\n",
    "    return score\n",
    "\n",
    "\n",
    "# Prepare data\n",
    "df = pd.read_csv(\"../input/fe-course-data/ames.csv\")\n",
    "X = df.copy()\n",
    "y = X.pop(\"SalePrice\")"
   ]
  },
  {
   "cell_type": "markdown",
   "id": "3af687eb",
   "metadata": {
    "papermill": {
     "duration": 0.006026,
     "end_time": "2024-01-05T11:50:05.106021",
     "exception": false,
     "start_time": "2024-01-05T11:50:05.099995",
     "status": "completed"
    },
    "tags": []
   },
   "source": [
    "-------------------------------------------------------------------------------\n",
    "\n",
    "Let's start with a few mathematical combinations. We'll focus on features describing areas -- having the same units (square-feet) makes it easy to combine them in sensible ways. Since we're using XGBoost (a tree-based model), we'll focus on ratios and sums.\n",
    "\n",
    "# 1) Create Mathematical Transforms\n",
    "\n",
    "Create the following features:\n",
    "\n",
    "- `LivLotRatio`: the ratio of `GrLivArea` to `LotArea`\n",
    "- `Spaciousness`: the sum of `FirstFlrSF` and `SecondFlrSF` divided by `TotRmsAbvGrd`\n",
    "- `TotalOutsideSF`: the sum of `WoodDeckSF`, `OpenPorchSF`, `EnclosedPorch`, `Threeseasonporch`, and `ScreenPorch`"
   ]
  },
  {
   "cell_type": "code",
   "execution_count": 2,
   "id": "58d8be72",
   "metadata": {
    "execution": {
     "iopub.execute_input": "2024-01-05T11:50:05.119186Z",
     "iopub.status.busy": "2024-01-05T11:50:05.118833Z",
     "iopub.status.idle": "2024-01-05T11:50:05.139994Z",
     "shell.execute_reply": "2024-01-05T11:50:05.139182Z"
    },
    "lines_to_next_cell": 0,
    "papermill": {
     "duration": 0.031096,
     "end_time": "2024-01-05T11:50:05.142939",
     "exception": false,
     "start_time": "2024-01-05T11:50:05.111843",
     "status": "completed"
    },
    "tags": []
   },
   "outputs": [
    {
     "data": {
      "application/javascript": [
       "parent.postMessage({\"jupyterEvent\": \"custom.exercise_interaction\", \"data\": {\"outcomeType\": 1, \"valueTowardsCompletion\": 0.2, \"interactionType\": 1, \"questionType\": 2, \"questionId\": \"1_Q1\", \"learnToolsVersion\": \"0.3.4\", \"failureMessage\": \"\", \"exceptionClass\": \"\", \"trace\": \"\"}}, \"*\")"
      ],
      "text/plain": [
       "<IPython.core.display.Javascript object>"
      ]
     },
     "metadata": {},
     "output_type": "display_data"
    },
    {
     "data": {
      "text/markdown": [
       "<span style=\"color:#33cc33\">Correct</span>"
      ],
      "text/plain": [
       "Correct"
      ]
     },
     "metadata": {},
     "output_type": "display_data"
    }
   ],
   "source": [
    "# YOUR CODE HERE\n",
    "X_1 = pd.DataFrame()  # dataframe to hold new features\n",
    "\n",
    "X_1[\"LivLotRatio\"] = df.GrLivArea / df.LotArea\n",
    "X_1[\"Spaciousness\"] = (df.FirstFlrSF + df.SecondFlrSF) / df.TotRmsAbvGrd\n",
    "X_1[\"TotalOutsideSF\"] = df.WoodDeckSF + df.OpenPorchSF + df.EnclosedPorch + df.Threeseasonporch + df.ScreenPorch\n",
    "\n",
    "# Check your answer\n",
    "q_1.check()"
   ]
  },
  {
   "cell_type": "code",
   "execution_count": 3,
   "id": "7a71c0ff",
   "metadata": {
    "execution": {
     "iopub.execute_input": "2024-01-05T11:50:05.157644Z",
     "iopub.status.busy": "2024-01-05T11:50:05.156549Z",
     "iopub.status.idle": "2024-01-05T11:50:05.161192Z",
     "shell.execute_reply": "2024-01-05T11:50:05.160109Z"
    },
    "lines_to_next_cell": 0,
    "papermill": {
     "duration": 0.01445,
     "end_time": "2024-01-05T11:50:05.163536",
     "exception": false,
     "start_time": "2024-01-05T11:50:05.149086",
     "status": "completed"
    },
    "tags": []
   },
   "outputs": [],
   "source": [
    "# Lines below will give you a hint or solution code\n",
    "#q_1.hint()\n",
    "#q_1.solution()"
   ]
  },
  {
   "cell_type": "markdown",
   "id": "cf1aa1c3",
   "metadata": {
    "papermill": {
     "duration": 0.005342,
     "end_time": "2024-01-05T11:50:05.174644",
     "exception": false,
     "start_time": "2024-01-05T11:50:05.169302",
     "status": "completed"
    },
    "tags": []
   },
   "source": [
    "-------------------------------------------------------------------------------\n",
    "\n",
    "If you've discovered an interaction effect between a numeric feature and a categorical feature, you might want to model it explicitly using a one-hot encoding, like so:\n",
    "\n",
    "```\n",
    "# One-hot encode Categorical feature, adding a column prefix \"Cat\"\n",
    "X_new = pd.get_dummies(df.Categorical, prefix=\"Cat\")\n",
    "\n",
    "# Multiply row-by-row\n",
    "X_new = X_new.mul(df.Continuous, axis=0)\n",
    "\n",
    "# Join the new features to the feature set\n",
    "X = X.join(X_new)\n",
    "```\n",
    "\n",
    "# 2) Interaction with a Categorical\n",
    "\n",
    "We discovered an interaction between `BldgType` and `GrLivArea` in Exercise 2. Now create their interaction features."
   ]
  },
  {
   "cell_type": "code",
   "execution_count": 4,
   "id": "49799107",
   "metadata": {
    "execution": {
     "iopub.execute_input": "2024-01-05T11:50:05.188235Z",
     "iopub.status.busy": "2024-01-05T11:50:05.187744Z",
     "iopub.status.idle": "2024-01-05T11:50:05.205578Z",
     "shell.execute_reply": "2024-01-05T11:50:05.204506Z"
    },
    "lines_to_next_cell": 0,
    "papermill": {
     "duration": 0.027113,
     "end_time": "2024-01-05T11:50:05.207659",
     "exception": false,
     "start_time": "2024-01-05T11:50:05.180546",
     "status": "completed"
    },
    "tags": []
   },
   "outputs": [
    {
     "data": {
      "application/javascript": [
       "parent.postMessage({\"jupyterEvent\": \"custom.exercise_interaction\", \"data\": {\"outcomeType\": 1, \"valueTowardsCompletion\": 0.2, \"interactionType\": 1, \"questionType\": 2, \"questionId\": \"2_Q2\", \"learnToolsVersion\": \"0.3.4\", \"failureMessage\": \"\", \"exceptionClass\": \"\", \"trace\": \"\"}}, \"*\")"
      ],
      "text/plain": [
       "<IPython.core.display.Javascript object>"
      ]
     },
     "metadata": {},
     "output_type": "display_data"
    },
    {
     "data": {
      "text/markdown": [
       "<span style=\"color:#33cc33\">Correct</span>"
      ],
      "text/plain": [
       "Correct"
      ]
     },
     "metadata": {},
     "output_type": "display_data"
    }
   ],
   "source": [
    "# YOUR CODE HERE\n",
    "# One-hot encode BldgType. Use `prefix=\"Bldg\"` in `get_dummies`\n",
    "X_2 = pd.get_dummies(df.BldgType, prefix=\"Bldg\") \n",
    "# Multiply\n",
    "X_2 = X_2.mul(df.GrLivArea, axis=0)\n",
    "\n",
    "\n",
    "# Check your answer\n",
    "q_2.check()"
   ]
  },
  {
   "cell_type": "code",
   "execution_count": 5,
   "id": "8fdd20bc",
   "metadata": {
    "execution": {
     "iopub.execute_input": "2024-01-05T11:50:05.221334Z",
     "iopub.status.busy": "2024-01-05T11:50:05.220599Z",
     "iopub.status.idle": "2024-01-05T11:50:05.225406Z",
     "shell.execute_reply": "2024-01-05T11:50:05.224304Z"
    },
    "lines_to_next_cell": 0,
    "papermill": {
     "duration": 0.014076,
     "end_time": "2024-01-05T11:50:05.227511",
     "exception": false,
     "start_time": "2024-01-05T11:50:05.213435",
     "status": "completed"
    },
    "tags": []
   },
   "outputs": [],
   "source": [
    "# Lines below will give you a hint or solution code\n",
    "#q_2.hint()\n",
    "#q_2.solution()"
   ]
  },
  {
   "cell_type": "markdown",
   "id": "c7fc1f05",
   "metadata": {
    "lines_to_next_cell": 0,
    "papermill": {
     "duration": 0.005471,
     "end_time": "2024-01-05T11:50:05.238716",
     "exception": false,
     "start_time": "2024-01-05T11:50:05.233245",
     "status": "completed"
    },
    "tags": []
   },
   "source": [
    "# 3) Count Feature\n",
    "\n",
    "Let's try creating a feature that describes how many kinds of outdoor areas a dwelling has. Create a feature `PorchTypes` that counts how many of the following are greater than 0.0:\n",
    "\n",
    "```\n",
    "WoodDeckSF\n",
    "OpenPorchSF\n",
    "EnclosedPorch\n",
    "Threeseasonporch\n",
    "ScreenPorch\n",
    "```"
   ]
  },
  {
   "cell_type": "code",
   "execution_count": 6,
   "id": "65475807",
   "metadata": {
    "execution": {
     "iopub.execute_input": "2024-01-05T11:50:05.252590Z",
     "iopub.status.busy": "2024-01-05T11:50:05.251657Z",
     "iopub.status.idle": "2024-01-05T11:50:05.270646Z",
     "shell.execute_reply": "2024-01-05T11:50:05.269714Z"
    },
    "lines_to_next_cell": 0,
    "papermill": {
     "duration": 0.028358,
     "end_time": "2024-01-05T11:50:05.272669",
     "exception": false,
     "start_time": "2024-01-05T11:50:05.244311",
     "status": "completed"
    },
    "tags": []
   },
   "outputs": [
    {
     "data": {
      "application/javascript": [
       "parent.postMessage({\"jupyterEvent\": \"custom.exercise_interaction\", \"data\": {\"outcomeType\": 1, \"valueTowardsCompletion\": 0.2, \"interactionType\": 1, \"questionType\": 2, \"questionId\": \"3_Q3\", \"learnToolsVersion\": \"0.3.4\", \"failureMessage\": \"\", \"exceptionClass\": \"\", \"trace\": \"\"}}, \"*\")"
      ],
      "text/plain": [
       "<IPython.core.display.Javascript object>"
      ]
     },
     "metadata": {},
     "output_type": "display_data"
    },
    {
     "data": {
      "text/markdown": [
       "<span style=\"color:#33cc33\">Correct</span>"
      ],
      "text/plain": [
       "Correct"
      ]
     },
     "metadata": {},
     "output_type": "display_data"
    }
   ],
   "source": [
    "X_3 = pd.DataFrame()\n",
    "\n",
    "# YOUR CODE HERE\n",
    "X_3[\"PorchTypes\"] = df[[\n",
    "    \"WoodDeckSF\",\n",
    "    \"OpenPorchSF\",\n",
    "    \"EnclosedPorch\",\n",
    "    \"Threeseasonporch\",\n",
    "    \"ScreenPorch\",\n",
    "]].gt(0.0).sum(axis=1)\n",
    "\n",
    "\n",
    "# Check your answer\n",
    "q_3.check()"
   ]
  },
  {
   "cell_type": "code",
   "execution_count": 7,
   "id": "176d4ebd",
   "metadata": {
    "execution": {
     "iopub.execute_input": "2024-01-05T11:50:05.287054Z",
     "iopub.status.busy": "2024-01-05T11:50:05.286003Z",
     "iopub.status.idle": "2024-01-05T11:50:05.291092Z",
     "shell.execute_reply": "2024-01-05T11:50:05.289892Z"
    },
    "lines_to_next_cell": 0,
    "papermill": {
     "duration": 0.014523,
     "end_time": "2024-01-05T11:50:05.293062",
     "exception": false,
     "start_time": "2024-01-05T11:50:05.278539",
     "status": "completed"
    },
    "tags": []
   },
   "outputs": [],
   "source": [
    "# Lines below will give you a hint or solution code\n",
    "#q_3.hint()\n",
    "#q_3.solution()"
   ]
  },
  {
   "cell_type": "markdown",
   "id": "010a19cf",
   "metadata": {
    "papermill": {
     "duration": 0.005557,
     "end_time": "2024-01-05T11:50:05.304532",
     "exception": false,
     "start_time": "2024-01-05T11:50:05.298975",
     "status": "completed"
    },
    "tags": []
   },
   "source": [
    "# 4) Break Down a Categorical Feature\n",
    "\n",
    "`MSSubClass` describes the type of a dwelling:"
   ]
  },
  {
   "cell_type": "code",
   "execution_count": 8,
   "id": "a6613171",
   "metadata": {
    "execution": {
     "iopub.execute_input": "2024-01-05T11:50:05.318513Z",
     "iopub.status.busy": "2024-01-05T11:50:05.317283Z",
     "iopub.status.idle": "2024-01-05T11:50:05.327270Z",
     "shell.execute_reply": "2024-01-05T11:50:05.326343Z"
    },
    "papermill": {
     "duration": 0.019018,
     "end_time": "2024-01-05T11:50:05.329243",
     "exception": false,
     "start_time": "2024-01-05T11:50:05.310225",
     "status": "completed"
    },
    "tags": []
   },
   "outputs": [
    {
     "data": {
      "text/plain": [
       "array(['One_Story_1946_and_Newer_All_Styles', 'Two_Story_1946_and_Newer',\n",
       "       'One_Story_PUD_1946_and_Newer',\n",
       "       'One_and_Half_Story_Finished_All_Ages', 'Split_Foyer',\n",
       "       'Two_Story_PUD_1946_and_Newer', 'Split_or_Multilevel',\n",
       "       'One_Story_1945_and_Older', 'Duplex_All_Styles_and_Ages',\n",
       "       'Two_Family_conversion_All_Styles_and_Ages',\n",
       "       'One_and_Half_Story_Unfinished_All_Ages',\n",
       "       'Two_Story_1945_and_Older', 'Two_and_Half_Story_All_Ages',\n",
       "       'One_Story_with_Finished_Attic_All_Ages',\n",
       "       'PUD_Multilevel_Split_Level_Foyer',\n",
       "       'One_and_Half_Story_PUD_All_Ages'], dtype=object)"
      ]
     },
     "execution_count": 8,
     "metadata": {},
     "output_type": "execute_result"
    }
   ],
   "source": [
    "df.MSSubClass.unique()"
   ]
  },
  {
   "cell_type": "markdown",
   "id": "a5d0b2f4",
   "metadata": {
    "papermill": {
     "duration": 0.005799,
     "end_time": "2024-01-05T11:50:05.341192",
     "exception": false,
     "start_time": "2024-01-05T11:50:05.335393",
     "status": "completed"
    },
    "tags": []
   },
   "source": [
    "You can see that there is a more general categorization described (roughly) by the first word of each category. Create a feature containing only these first words by splitting `MSSubClass` at the first underscore `_`. (Hint: In the `split` method use an argument `n=1`.)"
   ]
  },
  {
   "cell_type": "code",
   "execution_count": 9,
   "id": "54057e5f",
   "metadata": {
    "execution": {
     "iopub.execute_input": "2024-01-05T11:50:05.356078Z",
     "iopub.status.busy": "2024-01-05T11:50:05.355149Z",
     "iopub.status.idle": "2024-01-05T11:50:05.379837Z",
     "shell.execute_reply": "2024-01-05T11:50:05.378605Z"
    },
    "lines_to_next_cell": 0,
    "papermill": {
     "duration": 0.035196,
     "end_time": "2024-01-05T11:50:05.382262",
     "exception": false,
     "start_time": "2024-01-05T11:50:05.347066",
     "status": "completed"
    },
    "tags": []
   },
   "outputs": [
    {
     "data": {
      "application/javascript": [
       "parent.postMessage({\"jupyterEvent\": \"custom.exercise_interaction\", \"data\": {\"outcomeType\": 1, \"valueTowardsCompletion\": 0.2, \"interactionType\": 1, \"questionType\": 2, \"questionId\": \"4_Q4\", \"learnToolsVersion\": \"0.3.4\", \"failureMessage\": \"\", \"exceptionClass\": \"\", \"trace\": \"\"}}, \"*\")"
      ],
      "text/plain": [
       "<IPython.core.display.Javascript object>"
      ]
     },
     "metadata": {},
     "output_type": "display_data"
    },
    {
     "data": {
      "text/markdown": [
       "<span style=\"color:#33cc33\">Correct</span>"
      ],
      "text/plain": [
       "Correct"
      ]
     },
     "metadata": {},
     "output_type": "display_data"
    }
   ],
   "source": [
    "X_4 = pd.DataFrame()\n",
    "\n",
    "# YOUR CODE HERE\n",
    "X_4[\"MSClass\"] = df.MSSubClass.str.split(\"_\", n=1, expand=True)[0]\n",
    "\n",
    "# Check your answer\n",
    "q_4.check()"
   ]
  },
  {
   "cell_type": "code",
   "execution_count": 10,
   "id": "d4429286",
   "metadata": {
    "execution": {
     "iopub.execute_input": "2024-01-05T11:50:05.398993Z",
     "iopub.status.busy": "2024-01-05T11:50:05.398211Z",
     "iopub.status.idle": "2024-01-05T11:50:05.402940Z",
     "shell.execute_reply": "2024-01-05T11:50:05.402089Z"
    },
    "lines_to_next_cell": 0,
    "papermill": {
     "duration": 0.0161,
     "end_time": "2024-01-05T11:50:05.405348",
     "exception": false,
     "start_time": "2024-01-05T11:50:05.389248",
     "status": "completed"
    },
    "tags": []
   },
   "outputs": [],
   "source": [
    "# Lines below will give you a hint or solution code\n",
    "#q_4.hint()\n",
    "#q_4.solution()"
   ]
  },
  {
   "cell_type": "markdown",
   "id": "49a56422",
   "metadata": {
    "papermill": {
     "duration": 0.006542,
     "end_time": "2024-01-05T11:50:05.418820",
     "exception": false,
     "start_time": "2024-01-05T11:50:05.412278",
     "status": "completed"
    },
    "tags": []
   },
   "source": [
    "# 5) Use a Grouped Transform\n",
    "\n",
    "The value of a home often depends on how it compares to typical homes in its neighborhood. Create a feature `MedNhbdArea` that describes the *median* of `GrLivArea` grouped on `Neighborhood`."
   ]
  },
  {
   "cell_type": "code",
   "execution_count": 11,
   "id": "3ffe2684",
   "metadata": {
    "execution": {
     "iopub.execute_input": "2024-01-05T11:50:05.435030Z",
     "iopub.status.busy": "2024-01-05T11:50:05.434284Z",
     "iopub.status.idle": "2024-01-05T11:50:05.454113Z",
     "shell.execute_reply": "2024-01-05T11:50:05.453046Z"
    },
    "lines_to_next_cell": 0,
    "papermill": {
     "duration": 0.030672,
     "end_time": "2024-01-05T11:50:05.456479",
     "exception": false,
     "start_time": "2024-01-05T11:50:05.425807",
     "status": "completed"
    },
    "tags": []
   },
   "outputs": [
    {
     "data": {
      "application/javascript": [
       "parent.postMessage({\"jupyterEvent\": \"custom.exercise_interaction\", \"data\": {\"outcomeType\": 1, \"valueTowardsCompletion\": 0.2, \"interactionType\": 1, \"questionType\": 2, \"questionId\": \"5_Q5\", \"learnToolsVersion\": \"0.3.4\", \"failureMessage\": \"\", \"exceptionClass\": \"\", \"trace\": \"\"}}, \"*\")"
      ],
      "text/plain": [
       "<IPython.core.display.Javascript object>"
      ]
     },
     "metadata": {},
     "output_type": "display_data"
    },
    {
     "data": {
      "text/markdown": [
       "<span style=\"color:#33cc33\">Correct</span>"
      ],
      "text/plain": [
       "Correct"
      ]
     },
     "metadata": {},
     "output_type": "display_data"
    }
   ],
   "source": [
    "X_5 = pd.DataFrame()\n",
    "\n",
    "# YOUR CODE HERE\n",
    "X_5[\"MedNhbdArea\"] = df.groupby(\"Neighborhood\")[\"GrLivArea\"].transform(\"median\")\n",
    "\n",
    "# Check your answer\n",
    "q_5.check()"
   ]
  },
  {
   "cell_type": "code",
   "execution_count": 12,
   "id": "f3fa2457",
   "metadata": {
    "execution": {
     "iopub.execute_input": "2024-01-05T11:50:05.472141Z",
     "iopub.status.busy": "2024-01-05T11:50:05.470989Z",
     "iopub.status.idle": "2024-01-05T11:50:05.476004Z",
     "shell.execute_reply": "2024-01-05T11:50:05.475230Z"
    },
    "lines_to_next_cell": 0,
    "papermill": {
     "duration": 0.015045,
     "end_time": "2024-01-05T11:50:05.478103",
     "exception": false,
     "start_time": "2024-01-05T11:50:05.463058",
     "status": "completed"
    },
    "tags": []
   },
   "outputs": [],
   "source": [
    "# Lines below will give you a hint or solution code\n",
    "#q_5.hint()\n",
    "#q_5.solution()"
   ]
  },
  {
   "cell_type": "markdown",
   "id": "767457ad",
   "metadata": {
    "papermill": {
     "duration": 0.006328,
     "end_time": "2024-01-05T11:50:05.491238",
     "exception": false,
     "start_time": "2024-01-05T11:50:05.484910",
     "status": "completed"
    },
    "tags": []
   },
   "source": [
    "Now you've made your first new feature set! If you like, you can run the cell below to score the model with all of your new features added:"
   ]
  },
  {
   "cell_type": "code",
   "execution_count": 13,
   "id": "e7c23d6d",
   "metadata": {
    "execution": {
     "iopub.execute_input": "2024-01-05T11:50:05.506706Z",
     "iopub.status.busy": "2024-01-05T11:50:05.505539Z",
     "iopub.status.idle": "2024-01-05T11:50:08.173952Z",
     "shell.execute_reply": "2024-01-05T11:50:08.173064Z"
    },
    "papermill": {
     "duration": 2.678404,
     "end_time": "2024-01-05T11:50:08.176222",
     "exception": false,
     "start_time": "2024-01-05T11:50:05.497818",
     "status": "completed"
    },
    "tags": []
   },
   "outputs": [
    {
     "data": {
      "text/plain": [
       "0.13954039591355258"
      ]
     },
     "execution_count": 13,
     "metadata": {},
     "output_type": "execute_result"
    }
   ],
   "source": [
    "X_new = X.join([X_1, X_2, X_3, X_4, X_5])\n",
    "score_dataset(X_new, y)"
   ]
  },
  {
   "cell_type": "markdown",
   "id": "c1986837",
   "metadata": {
    "papermill": {
     "duration": 0.007142,
     "end_time": "2024-01-05T11:50:08.190469",
     "exception": false,
     "start_time": "2024-01-05T11:50:08.183327",
     "status": "completed"
    },
    "tags": []
   },
   "source": [
    "# Keep Going #\n",
    "\n",
    "[**Untangle spatial relationships**](https://www.kaggle.com/ryanholbrook/clustering-with-k-means) by adding cluster labels to your dataset."
   ]
  },
  {
   "cell_type": "markdown",
   "id": "865fe223",
   "metadata": {
    "papermill": {
     "duration": 0.00652,
     "end_time": "2024-01-05T11:50:08.203977",
     "exception": false,
     "start_time": "2024-01-05T11:50:08.197457",
     "status": "completed"
    },
    "tags": []
   },
   "source": [
    "---\n",
    "\n",
    "\n",
    "\n",
    "\n",
    "*Have questions or comments? Visit the [course discussion forum](https://www.kaggle.com/learn/feature-engineering/discussion) to chat with other learners.*"
   ]
  }
 ],
 "metadata": {
  "jupytext": {
   "cell_metadata_filter": "-all",
   "formats": "ipynb"
  },
  "kaggle": {
   "accelerator": "none",
   "dataSources": [
    {
     "datasetId": 933090,
     "sourceId": 1828856,
     "sourceType": "datasetVersion"
    }
   ],
   "isGpuEnabled": false,
   "isInternetEnabled": false,
   "language": "python",
   "sourceType": "notebook"
  },
  "kernelspec": {
   "display_name": "Python 3",
   "language": "python",
   "name": "python3"
  },
  "language_info": {
   "codemirror_mode": {
    "name": "ipython",
    "version": 3
   },
   "file_extension": ".py",
   "mimetype": "text/x-python",
   "name": "python",
   "nbconvert_exporter": "python",
   "pygments_lexer": "ipython3",
   "version": "3.10.12"
  },
  "papermill": {
   "default_parameters": {},
   "duration": 8.577078,
   "end_time": "2024-01-05T11:50:08.734949",
   "environment_variables": {},
   "exception": null,
   "input_path": "__notebook__.ipynb",
   "output_path": "__notebook__.ipynb",
   "parameters": {},
   "start_time": "2024-01-05T11:50:00.157871",
   "version": "2.4.0"
  }
 },
 "nbformat": 4,
 "nbformat_minor": 5
}
